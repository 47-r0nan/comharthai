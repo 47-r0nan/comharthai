{
 "cells": [
  {
   "cell_type": "markdown",
   "id": "eab50fc6-3d52-4d47-a44a-e81abb626c53",
   "metadata": {},
   "source": [
    "# ISL Alphabet Classification with CNN (Keras)\n",
    "\n",
    "This notebook trains a simple Convolutional Neural Network (CNN) to classify ISL alphabet signs using the ISL-HS dataset.\n"
   ]
  },
  {
   "cell_type": "code",
   "execution_count": 1,
   "id": "37fbcfce-0602-4716-8bd7-5b8bb9ab2302",
   "metadata": {},
   "outputs": [],
   "source": [
    "# Imports & Constants\n",
    "import os\n",
    "import numpy as np\n",
    "import cv2\n",
    "import matplotlib.pyplot as plt\n",
    "from sklearn.model_selection import train_test_split\n",
    "from sklearn.preprocessing import LabelBinarizer\n",
    "from sklearn.metrics import classification_report, confusion_matrix\n",
    "import seaborn as sns\n",
    "from tensorflow.keras.models import Sequential\n",
    "from tensorflow.keras.layers import Conv2D, MaxPooling2D, Flatten, Dense, Dropout\n",
    "from tensorflow.keras.utils import to_categorical\n",
    "from tensorflow.keras.callbacks import EarlyStopping\n",
    "\n",
    "# Constants\n",
    "DATA_DIR = \"../ISL/Frames\"\n",
    "IMG_SIZE = (64, 64)\n",
    "NUM_CLASSES = 23  # A–Y (excluding J, X, Z)\n"
   ]
  },
  {
   "cell_type": "code",
   "execution_count": 2,
   "id": "286a21f1-a89c-4aab-97bc-a8ffeefd530a",
   "metadata": {},
   "outputs": [
    {
     "name": "stdout",
     "output_type": "stream",
     "text": [
      "Loading data...\n"
     ]
    },
    {
     "ename": "NameError",
     "evalue": "name 'label' is not defined",
     "output_type": "error",
     "traceback": [
      "\u001b[31m---------------------------------------------------------------------------\u001b[39m",
      "\u001b[31mNameError\u001b[39m                                 Traceback (most recent call last)",
      "\u001b[36mCell\u001b[39m\u001b[36m \u001b[39m\u001b[32mIn[2]\u001b[39m\u001b[32m, line 29\u001b[39m\n\u001b[32m     26\u001b[39m     \u001b[38;5;28;01mreturn\u001b[39;00m np.array(X), np.array(y)\n\u001b[32m     28\u001b[39m \u001b[38;5;28mprint\u001b[39m(\u001b[33m\"\u001b[39m\u001b[33mLoading data...\u001b[39m\u001b[33m\"\u001b[39m)\n\u001b[32m---> \u001b[39m\u001b[32m29\u001b[39m X, y = \u001b[43mload_data\u001b[49m\u001b[43m(\u001b[49m\u001b[43mDATA_DIR\u001b[49m\u001b[43m)\u001b[49m\n\u001b[32m     30\u001b[39m \u001b[38;5;28mprint\u001b[39m(\u001b[33mf\u001b[39m\u001b[33m\"\u001b[39m\u001b[33mLoaded \u001b[39m\u001b[38;5;132;01m{\u001b[39;00m\u001b[38;5;28mlen\u001b[39m(X)\u001b[38;5;132;01m}\u001b[39;00m\u001b[33m images.\u001b[39m\u001b[33m\"\u001b[39m)\n",
      "\u001b[36mCell\u001b[39m\u001b[36m \u001b[39m\u001b[32mIn[2]\u001b[39m\u001b[32m, line 17\u001b[39m, in \u001b[36mload_data\u001b[39m\u001b[34m(data_dir)\u001b[39m\n\u001b[32m     15\u001b[39m \u001b[38;5;28;01mif\u001b[39;00m \u001b[38;5;129;01mnot\u001b[39;00m fname.endswith(\u001b[33m\"\u001b[39m\u001b[33m.jpg\u001b[39m\u001b[33m\"\u001b[39m):\n\u001b[32m     16\u001b[39m     \u001b[38;5;28;01mcontinue\u001b[39;00m\n\u001b[32m---> \u001b[39m\u001b[32m17\u001b[39m \u001b[38;5;28;01mif\u001b[39;00m \u001b[43mlabel\u001b[49m \u001b[38;5;129;01min\u001b[39;00m [\u001b[33m\"\u001b[39m\u001b[33mJ\u001b[39m\u001b[33m\"\u001b[39m, \u001b[33m\"\u001b[39m\u001b[33mX\u001b[39m\u001b[33m\"\u001b[39m, \u001b[33m\"\u001b[39m\u001b[33mZ\u001b[39m\u001b[33m\"\u001b[39m]:\n\u001b[32m     18\u001b[39m     \u001b[38;5;28;01mcontinue\u001b[39;00m  \u001b[38;5;66;03m# skip dynamic signs\u001b[39;00m\n\u001b[32m     19\u001b[39m img_path = os.path.join(person_path, fname)\n",
      "\u001b[31mNameError\u001b[39m: name 'label' is not defined"
     ]
    }
   ],
   "source": [
    "# Load Dataset\n",
    "def extract_label(filename):\n",
    "    parts = filename.split(\"-\")\n",
    "    if len(parts) >= 3:\n",
    "        return parts[1].upper()\n",
    "    return None\n",
    "\n",
    "def load_data(data_dir):\n",
    "    X, y = [], []\n",
    "    for person_folder in os.listdir(data_dir):\n",
    "        person_path = os.path.join(data_dir, person_folder)\n",
    "        if not os.path.isdir(person_path):\n",
    "            continue\n",
    "        for fname in os.listdir(person_path):\n",
    "            if not fname.endswith(\".jpg\"):\n",
    "                continue\n",
    "            label = extract_label(fname)\n",
    "            if label in [\"J\", \"X\", \"Z\"]:\n",
    "                continue  # skip dynamic signs\n",
    "            img_path = os.path.join(person_path, fname)\n",
    "            img = cv2.imread(img_path, cv2.IMREAD_GRAYSCALE)\n",
    "            if img is None:\n",
    "                continue\n",
    "            img = cv2.resize(img, IMG_SIZE)\n",
    "            X.append(img)\n",
    "            y.append(label)\n",
    "    return np.array(X), np.array(y)\n",
    "\n",
    "print(\"Loading data...\")\n",
    "X, y = load_data(DATA_DIR)\n",
    "print(f\"Loaded {len(X)} images.\")\n"
   ]
  },
  {
   "cell_type": "code",
   "execution_count": null,
   "id": "7bffc8f3-0fe9-4665-9b45-95bdc2b10723",
   "metadata": {},
   "outputs": [],
   "source": [
    "# Preprocess\n",
    "X = X.astype(\"float32\") / 255.0\n",
    "X = X.reshape(-1, IMG_SIZE[0], IMG_SIZE[1], 1)\n",
    "\n",
    "lb = LabelBinarizer()\n",
    "y_encoded = lb.fit_transform(y)\n",
    "\n",
    "X_train, X_test, y_train, y_test = train_test_split(X, y_encoded, test_size=0.3, stratify=y, random_state=42)\n",
    "print(f\"Train: {X_train.shape}, Test: {X_test.shape}\")\n"
   ]
  },
  {
   "cell_type": "code",
   "execution_count": null,
   "id": "57943c60-3a7f-4641-9563-68b237ae70fc",
   "metadata": {},
   "outputs": [],
   "source": [
    "# Build CNN\n",
    "model = Sequential([\n",
    "    Conv2D(32, (3, 3), activation='relu', input_shape=(IMG_SIZE[0], IMG_SIZE[1], 1)),\n",
    "    MaxPooling2D((2, 2)),\n",
    "    Conv2D(64, (3, 3), activation='relu'),\n",
    "    MaxPooling2D((2, 2)),\n",
    "    Flatten(),\n",
    "    Dense(128, activation='relu'),\n",
    "    Dropout(0.5),\n",
    "    Dense(NUM_CLASSES, activation='softmax')\n",
    "])\n",
    "\n",
    "model.compile(optimizer='adam', loss='categorical_crossentropy', metrics=['accuracy'])\n",
    "model.summary()\n"
   ]
  },
  {
   "cell_type": "code",
   "execution_count": null,
   "id": "e968a1bc-074e-4c9a-877f-bfe55a912893",
   "metadata": {},
   "outputs": [],
   "source": [
    "# Train\n",
    "early_stop = EarlyStopping(monitor='val_loss', patience=3, restore_best_weights=True)\n",
    "\n",
    "history = model.fit(\n",
    "    X_train, y_train,\n",
    "    validation_split=0.2,\n",
    "    epochs=15,\n",
    "    batch_size=64,\n",
    "    callbacks=[early_stop]\n",
    ")\n"
   ]
  },
  {
   "cell_type": "code",
   "execution_count": null,
   "id": "fe5b6839-68ed-41a0-a7d6-9dd4477cd01b",
   "metadata": {},
   "outputs": [],
   "source": [
    "# Plot Training Curves\n",
    "plt.figure(figsize=(12, 4))\n",
    "plt.subplot(1, 2, 1)\n",
    "plt.plot(history.history['accuracy'], label='Train Acc')\n",
    "plt.plot(history.history['val_accuracy'], label='Val Acc')\n",
    "plt.title(\"Accuracy\")\n",
    "plt.legend()\n",
    "\n",
    "plt.subplot(1, 2, 2)\n",
    "plt.plot(history.history['loss'], label='Train Loss')\n",
    "plt.plot(history.history['val_loss'], label='Val Loss')\n",
    "plt.title(\"Loss\")\n",
    "plt.legend()\n",
    "plt.show()\n"
   ]
  },
  {
   "cell_type": "code",
   "execution_count": null,
   "id": "15ef9b1b-7314-43c7-9ae4-da4f4bff1fc5",
   "metadata": {},
   "outputs": [],
   "source": [
    "# Evaluate\n",
    "test_loss, test_acc = model.evaluate(X_test, y_test)\n",
    "print(f\"Test Accuracy: {test_acc:.4f}\")\n",
    "\n",
    "y_pred = model.predict(X_test)\n",
    "y_pred_labels = lb.inverse_transform(y_pred)\n",
    "y_true_labels = lb.inverse_transform(y_test)\n",
    "\n",
    "cm = confusion_matrix(y_true_labels, y_pred_labels, labels=lb.classes_)\n",
    "plt.figure(figsize=(14, 6))\n",
    "sns.heatmap(cm, annot=True, fmt=\"d\", xticklabels=lb.classes_, yticklabels=lb.classes_, cmap=\"Blues\")\n",
    "plt.xlabel(\"Predicted\")\n",
    "plt.ylabel(\"True\")\n",
    "plt.title(\"Confusion Matrix\")\n",
    "plt.show()\n"
   ]
  },
  {
   "cell_type": "code",
   "execution_count": null,
   "id": "9faf4619-00dc-4e11-9bc0-8ebb4b12767b",
   "metadata": {},
   "outputs": [],
   "source": []
  }
 ],
 "metadata": {
  "kernelspec": {
   "display_name": "Python (ISL Env)",
   "language": "python",
   "name": "isl-env"
  },
  "language_info": {
   "codemirror_mode": {
    "name": "ipython",
    "version": 3
   },
   "file_extension": ".py",
   "mimetype": "text/x-python",
   "name": "python",
   "nbconvert_exporter": "python",
   "pygments_lexer": "ipython3",
   "version": "3.12.5"
  }
 },
 "nbformat": 4,
 "nbformat_minor": 5
}
